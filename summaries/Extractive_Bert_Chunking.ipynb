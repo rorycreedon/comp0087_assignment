{
  "cells": [
    {
      "cell_type": "code",
      "source": [
        "%cd comp0087_assignment-main\n",
        "%ls"
      ],
      "outputs": [
        {
          "output_type": "stream",
          "name": "stdout",
          "text": "/mnt/batch/tasks/shared/LS_root/mounts/clusters/ucabcmb1/code/Users/ucabcmb/SNLP/comp0087_assignment-main\n\u001b[0m\u001b[01;32m'BERT summarisation.ipynb'\u001b[0m*         \u001b[34;42mdata\u001b[0m/                  \u001b[01;32mprocess_data.py\u001b[0m*\r\n \u001b[01;32mabstractive_summarisation.ipynb\u001b[0m*   \u001b[01;32mdownload_hf_data.py\u001b[0m*   \u001b[01;32mtest.ipynb\u001b[0m*\r\n \u001b[01;32mclassifier.py\u001b[0m*                     \u001b[01;32mdownload_summary.py\u001b[0m*\r\n \u001b[01;32mconfig.py\u001b[0m*                         \u001b[01;32moptimisation.py\u001b[0m*\r\n"
        }
      ],
      "execution_count": 1,
      "metadata": {}
    },
    {
      "cell_type": "code",
      "source": [
        "%pip install torch\n",
        "%pip install transformers\n",
        "%pip install bert-extractive-summarizer"
      ],
      "outputs": [
        {
          "output_type": "stream",
          "name": "stdout",
          "text": "Requirement already satisfied: torch in /anaconda/envs/azureml_py310_sdkv2/lib/python3.10/site-packages (1.13.1)\nRequirement already satisfied: typing-extensions in /anaconda/envs/azureml_py310_sdkv2/lib/python3.10/site-packages (from torch) (4.4.0)\nRequirement already satisfied: nvidia-cuda-runtime-cu11==11.7.99 in /anaconda/envs/azureml_py310_sdkv2/lib/python3.10/site-packages (from torch) (11.7.99)\nRequirement already satisfied: nvidia-cublas-cu11==11.10.3.66 in /anaconda/envs/azureml_py310_sdkv2/lib/python3.10/site-packages (from torch) (11.10.3.66)\nRequirement already satisfied: nvidia-cudnn-cu11==8.5.0.96 in /anaconda/envs/azureml_py310_sdkv2/lib/python3.10/site-packages (from torch) (8.5.0.96)\nRequirement already satisfied: nvidia-cuda-nvrtc-cu11==11.7.99 in /anaconda/envs/azureml_py310_sdkv2/lib/python3.10/site-packages (from torch) (11.7.99)\nRequirement already satisfied: setuptools in /anaconda/envs/azureml_py310_sdkv2/lib/python3.10/site-packages (from nvidia-cublas-cu11==11.10.3.66->torch) (65.6.3)\nRequirement already satisfied: wheel in /anaconda/envs/azureml_py310_sdkv2/lib/python3.10/site-packages (from nvidia-cublas-cu11==11.10.3.66->torch) (0.37.1)\nNote: you may need to restart the kernel to use updated packages.\nRequirement already satisfied: transformers in /anaconda/envs/azureml_py310_sdkv2/lib/python3.10/site-packages (4.26.1)\nRequirement already satisfied: pyyaml>=5.1 in /anaconda/envs/azureml_py310_sdkv2/lib/python3.10/site-packages (from transformers) (6.0)\nRequirement already satisfied: huggingface-hub<1.0,>=0.11.0 in /anaconda/envs/azureml_py310_sdkv2/lib/python3.10/site-packages (from transformers) (0.13.2)\nRequirement already satisfied: filelock in /anaconda/envs/azureml_py310_sdkv2/lib/python3.10/site-packages (from transformers) (3.9.0)\nRequirement already satisfied: packaging>=20.0 in /anaconda/envs/azureml_py310_sdkv2/lib/python3.10/site-packages (from transformers) (21.3)\nRequirement already satisfied: numpy>=1.17 in /anaconda/envs/azureml_py310_sdkv2/lib/python3.10/site-packages (from transformers) (1.24.1)\nRequirement already satisfied: requests in /anaconda/envs/azureml_py310_sdkv2/lib/python3.10/site-packages (from transformers) (2.28.2)\nRequirement already satisfied: regex!=2019.12.17 in /anaconda/envs/azureml_py310_sdkv2/lib/python3.10/site-packages (from transformers) (2022.10.31)\nRequirement already satisfied: tokenizers!=0.11.3,<0.14,>=0.11.1 in /anaconda/envs/azureml_py310_sdkv2/lib/python3.10/site-packages (from transformers) (0.13.2)\nRequirement already satisfied: tqdm>=4.27 in /anaconda/envs/azureml_py310_sdkv2/lib/python3.10/site-packages (from transformers) (4.64.1)\nRequirement already satisfied: typing-extensions>=3.7.4.3 in /anaconda/envs/azureml_py310_sdkv2/lib/python3.10/site-packages (from huggingface-hub<1.0,>=0.11.0->transformers) (4.4.0)\nRequirement already satisfied: pyparsing!=3.0.5,>=2.0.2 in /anaconda/envs/azureml_py310_sdkv2/lib/python3.10/site-packages (from packaging>=20.0->transformers) (3.0.9)\nRequirement already satisfied: urllib3<1.27,>=1.21.1 in /anaconda/envs/azureml_py310_sdkv2/lib/python3.10/site-packages (from requests->transformers) (1.26.14)\nRequirement already satisfied: charset-normalizer<4,>=2 in /anaconda/envs/azureml_py310_sdkv2/lib/python3.10/site-packages (from requests->transformers) (3.0.1)\nRequirement already satisfied: certifi>=2017.4.17 in /anaconda/envs/azureml_py310_sdkv2/lib/python3.10/site-packages (from requests->transformers) (2022.6.15)\nRequirement already satisfied: idna<4,>=2.5 in /anaconda/envs/azureml_py310_sdkv2/lib/python3.10/site-packages (from requests->transformers) (3.4)\nNote: you may need to restart the kernel to use updated packages.\nRequirement already satisfied: bert-extractive-summarizer in /anaconda/envs/azureml_py310_sdkv2/lib/python3.10/site-packages (0.10.1)\nRequirement already satisfied: transformers in /anaconda/envs/azureml_py310_sdkv2/lib/python3.10/site-packages (from bert-extractive-summarizer) (4.26.1)\nRequirement already satisfied: spacy in /anaconda/envs/azureml_py310_sdkv2/lib/python3.10/site-packages (from bert-extractive-summarizer) (3.5.1)\nRequirement already satisfied: scikit-learn in /anaconda/envs/azureml_py310_sdkv2/lib/python3.10/site-packages (from bert-extractive-summarizer) (1.2.0)\nRequirement already satisfied: numpy>=1.17.3 in /anaconda/envs/azureml_py310_sdkv2/lib/python3.10/site-packages (from scikit-learn->bert-extractive-summarizer) (1.24.1)\nRequirement already satisfied: threadpoolctl>=2.0.0 in /anaconda/envs/azureml_py310_sdkv2/lib/python3.10/site-packages (from scikit-learn->bert-extractive-summarizer) (3.1.0)\nRequirement already satisfied: joblib>=1.1.1 in /anaconda/envs/azureml_py310_sdkv2/lib/python3.10/site-packages (from scikit-learn->bert-extractive-summarizer) (1.2.0)\nRequirement already satisfied: scipy>=1.3.2 in /anaconda/envs/azureml_py310_sdkv2/lib/python3.10/site-packages (from scikit-learn->bert-extractive-summarizer) (1.10.0)\nRequirement already satisfied: langcodes<4.0.0,>=3.2.0 in /anaconda/envs/azureml_py310_sdkv2/lib/python3.10/site-packages (from spacy->bert-extractive-summarizer) (3.3.0)\nRequirement already satisfied: thinc<8.2.0,>=8.1.8 in /anaconda/envs/azureml_py310_sdkv2/lib/python3.10/site-packages (from spacy->bert-extractive-summarizer) (8.1.9)\nRequirement already satisfied: jinja2 in /anaconda/envs/azureml_py310_sdkv2/lib/python3.10/site-packages (from spacy->bert-extractive-summarizer) (3.1.2)\nRequirement already satisfied: requests<3.0.0,>=2.13.0 in /anaconda/envs/azureml_py310_sdkv2/lib/python3.10/site-packages (from spacy->bert-extractive-summarizer) (2.28.2)\nRequirement already satisfied: srsly<3.0.0,>=2.4.3 in /anaconda/envs/azureml_py310_sdkv2/lib/python3.10/site-packages (from spacy->bert-extractive-summarizer) (2.4.6)\nRequirement already satisfied: catalogue<2.1.0,>=2.0.6 in /anaconda/envs/azureml_py310_sdkv2/lib/python3.10/site-packages (from spacy->bert-extractive-summarizer) (2.0.8)\nRequirement already satisfied: spacy-loggers<2.0.0,>=1.0.0 in /anaconda/envs/azureml_py310_sdkv2/lib/python3.10/site-packages (from spacy->bert-extractive-summarizer) (1.0.4)\nRequirement already satisfied: spacy-legacy<3.1.0,>=3.0.11 in /anaconda/envs/azureml_py310_sdkv2/lib/python3.10/site-packages (from spacy->bert-extractive-summarizer) (3.0.12)\nRequirement already satisfied: pydantic!=1.8,!=1.8.1,<1.11.0,>=1.7.4 in /anaconda/envs/azureml_py310_sdkv2/lib/python3.10/site-packages (from spacy->bert-extractive-summarizer) (1.10.6)\nRequirement already satisfied: cymem<2.1.0,>=2.0.2 in /anaconda/envs/azureml_py310_sdkv2/lib/python3.10/site-packages (from spacy->bert-extractive-summarizer) (2.0.7)\nRequirement already satisfied: murmurhash<1.1.0,>=0.28.0 in /anaconda/envs/azureml_py310_sdkv2/lib/python3.10/site-packages (from spacy->bert-extractive-summarizer) (1.0.9)\nRequirement already satisfied: preshed<3.1.0,>=3.0.2 in /anaconda/envs/azureml_py310_sdkv2/lib/python3.10/site-packages (from spacy->bert-extractive-summarizer) (3.0.8)\nRequirement already satisfied: packaging>=20.0 in /anaconda/envs/azureml_py310_sdkv2/lib/python3.10/site-packages (from spacy->bert-extractive-summarizer) (21.3)\nRequirement already satisfied: pathy>=0.10.0 in /anaconda/envs/azureml_py310_sdkv2/lib/python3.10/site-packages (from spacy->bert-extractive-summarizer) (0.10.1)\nRequirement already satisfied: setuptools in /anaconda/envs/azureml_py310_sdkv2/lib/python3.10/site-packages (from spacy->bert-extractive-summarizer) (65.6.3)\nRequirement already satisfied: smart-open<7.0.0,>=5.2.1 in /anaconda/envs/azureml_py310_sdkv2/lib/python3.10/site-packages (from spacy->bert-extractive-summarizer) (6.3.0)\nRequirement already satisfied: wasabi<1.2.0,>=0.9.1 in /anaconda/envs/azureml_py310_sdkv2/lib/python3.10/site-packages (from spacy->bert-extractive-summarizer) (1.1.1)\nRequirement already satisfied: tqdm<5.0.0,>=4.38.0 in /anaconda/envs/azureml_py310_sdkv2/lib/python3.10/site-packages (from spacy->bert-extractive-summarizer) (4.64.1)\nRequirement already satisfied: typer<0.8.0,>=0.3.0 in /anaconda/envs/azureml_py310_sdkv2/lib/python3.10/site-packages (from spacy->bert-extractive-summarizer) (0.7.0)\nRequirement already satisfied: huggingface-hub<1.0,>=0.11.0 in /anaconda/envs/azureml_py310_sdkv2/lib/python3.10/site-packages (from transformers->bert-extractive-summarizer) (0.13.2)\nRequirement already satisfied: tokenizers!=0.11.3,<0.14,>=0.11.1 in /anaconda/envs/azureml_py310_sdkv2/lib/python3.10/site-packages (from transformers->bert-extractive-summarizer) (0.13.2)\nRequirement already satisfied: filelock in /anaconda/envs/azureml_py310_sdkv2/lib/python3.10/site-packages (from transformers->bert-extractive-summarizer) (3.9.0)\nRequirement already satisfied: pyyaml>=5.1 in /anaconda/envs/azureml_py310_sdkv2/lib/python3.10/site-packages (from transformers->bert-extractive-summarizer) (6.0)\nRequirement already satisfied: regex!=2019.12.17 in /anaconda/envs/azureml_py310_sdkv2/lib/python3.10/site-packages (from transformers->bert-extractive-summarizer) (2022.10.31)\nRequirement already satisfied: typing-extensions>=3.7.4.3 in /anaconda/envs/azureml_py310_sdkv2/lib/python3.10/site-packages (from huggingface-hub<1.0,>=0.11.0->transformers->bert-extractive-summarizer) (4.4.0)\nRequirement already satisfied: pyparsing!=3.0.5,>=2.0.2 in /anaconda/envs/azureml_py310_sdkv2/lib/python3.10/site-packages (from packaging>=20.0->spacy->bert-extractive-summarizer) (3.0.9)\nRequirement already satisfied: charset-normalizer<4,>=2 in /anaconda/envs/azureml_py310_sdkv2/lib/python3.10/site-packages (from requests<3.0.0,>=2.13.0->spacy->bert-extractive-summarizer) (3.0.1)\nRequirement already satisfied: idna<4,>=2.5 in /anaconda/envs/azureml_py310_sdkv2/lib/python3.10/site-packages (from requests<3.0.0,>=2.13.0->spacy->bert-extractive-summarizer) (3.4)\nRequirement already satisfied: urllib3<1.27,>=1.21.1 in /anaconda/envs/azureml_py310_sdkv2/lib/python3.10/site-packages (from requests<3.0.0,>=2.13.0->spacy->bert-extractive-summarizer) (1.26.14)\nRequirement already satisfied: certifi>=2017.4.17 in /anaconda/envs/azureml_py310_sdkv2/lib/python3.10/site-packages (from requests<3.0.0,>=2.13.0->spacy->bert-extractive-summarizer) (2022.6.15)\nRequirement already satisfied: blis<0.8.0,>=0.7.8 in /anaconda/envs/azureml_py310_sdkv2/lib/python3.10/site-packages (from thinc<8.2.0,>=8.1.8->spacy->bert-extractive-summarizer) (0.7.9)\nRequirement already satisfied: confection<1.0.0,>=0.0.1 in /anaconda/envs/azureml_py310_sdkv2/lib/python3.10/site-packages (from thinc<8.2.0,>=8.1.8->spacy->bert-extractive-summarizer) (0.0.4)\nRequirement already satisfied: click<9.0.0,>=7.1.1 in /anaconda/envs/azureml_py310_sdkv2/lib/python3.10/site-packages (from typer<0.8.0,>=0.3.0->spacy->bert-extractive-summarizer) (8.0.4)\nRequirement already satisfied: MarkupSafe>=2.0 in /anaconda/envs/azureml_py310_sdkv2/lib/python3.10/site-packages (from jinja2->spacy->bert-extractive-summarizer) (2.1.2)\nNote: you may need to restart the kernel to use updated packages.\n"
        }
      ],
      "execution_count": 14,
      "metadata": {
        "jupyter": {
          "source_hidden": false,
          "outputs_hidden": false
        },
        "nteract": {
          "transient": {
            "deleting": false
          }
        },
        "gather": {
          "logged": 1678744733844
        }
      }
    },
    {
      "cell_type": "code",
      "source": [
        "from summarizer import Summarizer\n",
        "import pandas as pd\n",
        "import torch\n",
        "import transformers\n",
        "from pathlib import Path"
      ],
      "outputs": [],
      "execution_count": 6,
      "metadata": {
        "jupyter": {
          "source_hidden": false,
          "outputs_hidden": false
        },
        "nteract": {
          "transient": {
            "deleting": false
          }
        },
        "gather": {
          "logged": 1678745062952
        }
      }
    },
    {
      "cell_type": "code",
      "source": [
        "def chunk_text(text, max_length=512):\n",
        "    \"\"\"\n",
        "    Split a large piece of text into chunks that are no longer than max_length words,\n",
        "    but do not cut off sentences.\n",
        "    \"\"\"\n",
        "    # Split the text into sentences\n",
        "    sentences = text.split('. ')\n",
        "\n",
        "    # Initialize variables\n",
        "    chunks = []\n",
        "    current_chunk = ''\n",
        "\n",
        "    # Loop through each sentence and add it to the current chunk until the\n",
        "    # length of the current chunk exceeds the max_length\n",
        "    for sentence in sentences:\n",
        "        words = sentence.split()\n",
        "        if len(current_chunk.split()) + len(words) <= max_length:\n",
        "            current_chunk += sentence + '. '\n",
        "        else:\n",
        "            # Add the current chunk to the list of chunks\n",
        "            chunks.append(current_chunk.strip())\n",
        "            current_chunk = sentence + '. '\n",
        "\n",
        "    # Add the final chunk to the list of chunks\n",
        "    if current_chunk:\n",
        "        chunks.append(current_chunk.strip())\n",
        "\n",
        "    return chunks\n",
        "\n",
        "def chunked_extractive_summary(text, model):\n",
        "\n",
        "  chunks = chunk_text(text)\n",
        "\n",
        "  max_output_length = 512 / len(chunks)\n",
        "\n",
        "  summaries = []\n",
        "  for chunk in chunks:\n",
        "\n",
        "    words_in_chunk = len(chunk.split())\n",
        "\n",
        "    if words_in_chunk > max_output_length:\n",
        "      ratio_ = max_output_length / words_in_chunk\n",
        "      summaries.append(model(chunk, ratio=ratio_))\n",
        "    else:\n",
        "      summaries.append(chunk)\n",
        "\n",
        "  return \" \".join(summaries)"
      ],
      "outputs": [],
      "execution_count": 3,
      "metadata": {
        "jupyter": {
          "source_hidden": false,
          "outputs_hidden": false
        },
        "nteract": {
          "transient": {
            "deleting": false
          }
        },
        "gather": {
          "logged": 1678745027431
        }
      }
    },
    {
      "cell_type": "code",
      "source": [
        "device = torch.device(\"cuda\" if torch.cuda.is_available() else \"cpu\")\n",
        "print(device)\n",
        "\n",
        "model = Summarizer()\n",
        "\n",
        "# Make folder if necessary\n",
        "Path(\"data/echr/chunking\").mkdir(parents=True, exist_ok=True)"
      ],
      "outputs": [
        {
          "output_type": "stream",
          "name": "stdout",
          "text": "cuda\n"
        },
        {
          "output_type": "stream",
          "name": "stderr",
          "text": "Some weights of the model checkpoint at bert-large-uncased were not used when initializing BertModel: ['cls.predictions.transform.LayerNorm.weight', 'cls.seq_relationship.weight', 'cls.predictions.bias', 'cls.predictions.decoder.weight', 'cls.seq_relationship.bias', 'cls.predictions.transform.dense.weight', 'cls.predictions.transform.dense.bias', 'cls.predictions.transform.LayerNorm.bias']\n- This IS expected if you are initializing BertModel from the checkpoint of a model trained on another task or with another architecture (e.g. initializing a BertForSequenceClassification model from a BertForPreTraining model).\n- This IS NOT expected if you are initializing BertModel from the checkpoint of a model that you expect to be exactly identical (initializing a BertForSequenceClassification model from a BertForSequenceClassification model).\n"
        }
      ],
      "execution_count": 7,
      "metadata": {
        "jupyter": {
          "source_hidden": false,
          "outputs_hidden": false
        },
        "nteract": {
          "transient": {
            "deleting": false
          }
        },
        "gather": {
          "logged": 1678745081613
        }
      }
    },
    {
      "cell_type": "code",
      "source": [
        "# Loop through all text in data\n",
        "for set_ in [\"train\",\"valid\", \"test\"]:\n",
        "    for name in [\"non-anon\"]:\n",
        "    # for name in [\"anon\"]:\n",
        "        print(f\"{name} {set_} set\")\n",
        "        df = pd.read_pickle(f\"data/echr/{name}_{set_}.pkl\")\n",
        "        if \"summary\" not in df.columns:\n",
        "            df[\"summary\"] = \"\"\n",
        "        # Loop through summarise\n",
        "        for i in range(len(df[\"text\"])):\n",
        "\n",
        "            text = df[\"text\"][i]\n",
        "\n",
        "            summary = chunked_extractive_summary(text, model)\n",
        "\n",
        "            while True:\n",
        "\n",
        "                if len(summary.split()) <= 512:\n",
        "                    break\n",
        "\n",
        "                # generate the condition\n",
        "                summary = chunked_extractive_summary(summary, model)\n",
        "\n",
        "            df[\"summary\"][i] = summary\n",
        "\n",
        "            # Save every 50 summaries in case of crashes\n",
        "            if (i % 50==0) and (i>0):\n",
        "                df.to_pickle(f\"data/echr/chunking/{name}_{set_}.pkl\")\n",
        "\n",
        "        # Save summary\n",
        "        df.to_pickle(f\"data/echr/chunking/{name}_{set_}.pkl\")"
      ],
      "outputs": [],
      "execution_count": null,
      "metadata": {
        "jupyter": {
          "source_hidden": false,
          "outputs_hidden": false
        },
        "nteract": {
          "transient": {
            "deleting": false
          }
        }
      }
    }
  ],
  "metadata": {
    "kernelspec": {
      "name": "python310-sdkv2",
      "language": "python",
      "display_name": "Python 3.10 - SDK v2"
    },
    "language_info": {
      "name": "python",
      "version": "3.10.9",
      "mimetype": "text/x-python",
      "codemirror_mode": {
        "name": "ipython",
        "version": 3
      },
      "pygments_lexer": "ipython3",
      "nbconvert_exporter": "python",
      "file_extension": ".py"
    },
    "microsoft": {
      "ms_spell_check": {
        "ms_spell_check_language": "en"
      },
      "host": {
        "AzureML": {
          "notebookHasBeenCompleted": true
        }
      }
    },
    "kernel_info": {
      "name": "python310-sdkv2"
    },
    "nteract": {
      "version": "nteract-front-end@1.0.0"
    }
  },
  "nbformat": 4,
  "nbformat_minor": 2
}