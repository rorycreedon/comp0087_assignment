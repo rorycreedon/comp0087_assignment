{
 "cells": [
  {
   "cell_type": "code",
   "execution_count": 3,
   "metadata": {},
   "outputs": [],
   "source": [
    "import numpy as np\n",
    "import pandas as pd"
   ]
  },
  {
   "cell_type": "code",
   "execution_count": 18,
   "metadata": {},
   "outputs": [],
   "source": [
    "def load_data(folder=\"echr\", task=\"binary_cls\", anon=False):\n",
    "    if anon == False:\n",
    "        train_df = pd.read_pickle(f\"data/{folder}/non-anon_train.pkl\")\n",
    "        val_df = pd.read_pickle(f\"data/{folder}/non-anon_valid.pkl\")\n",
    "        test_df = pd.read_pickle(f\"data/{folder}/non-anon_test.pkl\")\n",
    "    else:\n",
    "        train_df = pd.read_pickle(f\"data/{folder}/anon_train.pkl\")\n",
    "        val_df = pd.read_pickle(f\"data/{folder}/anon_valid.pkl\")\n",
    "        test_df = pd.read_pickle(f\"data/{folder}/anon_test.pkl\")\n",
    "\n",
    "    if task == \"binary_cls\":\n",
    "        train_texts, train_labels = train_df[\"summary\"].tolist(), train_df[\"violated\"].astype(int).tolist()\n",
    "        val_texts, val_labels = val_df[\"text\"].tolist(), val_df[\"violated\"].astype(int).tolist()\n",
    "        test_texts, test_labels = test_df[\"text\"].tolist(), test_df[\"violated\"].astype(int).tolist()\n",
    "\n",
    "    return train_texts, train_labels, val_texts, val_labels, test_texts, test_labels"
   ]
  },
  {
   "cell_type": "code",
   "execution_count": 19,
   "metadata": {},
   "outputs": [],
   "source": [
    "train_texts, train_labels, val_texts, val_labels, test_texts, test_labels = load_data(folder=\"long_t5_summary\")"
   ]
  },
  {
   "cell_type": "code",
   "execution_count": 26,
   "metadata": {},
   "outputs": [
    {
     "data": {
      "text/plain": [
       "''"
      ]
     },
     "execution_count": 26,
     "metadata": {},
     "output_type": "execute_result"
    }
   ],
   "source": [
    "train_texts"
   ]
  },
  {
   "cell_type": "code",
   "execution_count": null,
   "metadata": {},
   "outputs": [],
   "source": []
  }
 ],
 "metadata": {
  "kernelspec": {
   "display_name": "base",
   "language": "python",
   "name": "python3"
  },
  "language_info": {
   "codemirror_mode": {
    "name": "ipython",
    "version": 3
   },
   "file_extension": ".py",
   "mimetype": "text/x-python",
   "name": "python",
   "nbconvert_exporter": "python",
   "pygments_lexer": "ipython3",
   "version": "3.9.16"
  },
  "orig_nbformat": 4,
  "vscode": {
   "interpreter": {
    "hash": "40d3a090f54c6569ab1632332b64b2c03c39dcf918b08424e98f38b5ae0af88f"
   }
  }
 },
 "nbformat": 4,
 "nbformat_minor": 2
}
