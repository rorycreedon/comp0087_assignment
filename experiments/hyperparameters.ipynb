{
 "cells": [
  {
   "cell_type": "code",
   "execution_count": 42,
   "metadata": {},
   "outputs": [],
   "source": [
    "import statistics\n",
    "import itertools\n",
    "import numpy as np"
   ]
  },
  {
   "cell_type": "code",
   "execution_count": 38,
   "metadata": {},
   "outputs": [],
   "source": [
    "# insert metric value lists here\n",
    "binary_cls = [\n",
    "    [0.8586173098209532, 0.859922424561173],\n",
    "    [0.8520841258398817, 0.8521586972824341],\n",
    "    [0.8441962717380859, 0.79780155838899],\n",
    "    [0.8612473212015547, 0.8542314040987368],\n",
    "    [0.8419957983193277, 0.8528576778573755],\n",
    "    [0.8138672286617491, 0.8527685906326683],\n",
    "    [0.8412855961243059, 0.8214451017849179],\n",
    "    [0.8390966386554624, 0.8288557381253167],\n",
    "    [0.8548502117293652, 0.8325537419075258, 0.8607639903392408],\n",
    "    [0.8124442927310311, 0.8193731519810763, 0.8433716707021792],\n",
    "    [0.8147807976268364, 0.8146098403769125],\n",
    "    [0.8527668713252097, 0.8046390464036207]           \n",
    "]\n",
    "\n",
    "multi_cls = [\n",
    "    [0.42803129880281554, 0.5377675011708437, 0.5515356080364323, 0.6116808349549058, 0.5815251667031641],\n",
    "    [0.6046328804652746, 0.5991256962803999],\n",
    "    [0.5650263236265469, 0.5964939193687046, 0.6022860202401695],\n",
    "    [0.5984847104736571, 0.6107701487142221],\n",
    "    [0.6102201879464343, 0.6001521587090417],\n",
    "    [0.6095148235254867, 0.601334828831183, 0.5941179035839753],\n",
    "    [0.6063906014135455, 0.62214525753665],\n",
    "    [0.6158781190033471, 0.6276735146740439],\n",
    "    [0.6268289317151244, 0.6242690527552892],\n",
    "    [0.6282678019263203, 0.6273868525312971],\n",
    "    [0.6233111144243962, 0.6334651945298209],\n",
    "    [0.6293057704069477, 0.6131833301072764]\n",
    "]"
   ]
  },
  {
   "cell_type": "code",
   "execution_count": 39,
   "metadata": {},
   "outputs": [],
   "source": [
    "assert len(binary_cls) == len(multi_cls) == 12"
   ]
  },
  {
   "cell_type": "code",
   "execution_count": 40,
   "metadata": {},
   "outputs": [
    {
     "name": "stdout",
     "output_type": "stream",
     "text": [
      "[0.859269867191063, 0.852121411561158, 0.820998915063538, 0.8577393626501457, 0.8474267380883516, 0.8333179096472088, 0.8313653489546119, 0.8339761883903896, 0.8493893146587106, 0.8250630384714289, 0.8146953190018744, 0.8287029588644153]\n",
      "[0.5421080819336322, 0.6018792883728372, 0.5879354210784736, 0.6046274295939396, 0.6051861733277379, 0.601655851980215, 0.6142679294750977, 0.6217758168386955, 0.6255489922352069, 0.6278273272288086, 0.6283881544771086, 0.621244550257112]\n"
     ]
    }
   ],
   "source": [
    "# calculate the mean metric value\n",
    "mean_binary_cls = [statistics.mean(lst) for lst in binary_cls]\n",
    "mean_multi_cls = [statistics.mean(lst) for lst in multi_cls]\n",
    "print(mean_binary_cls)\n",
    "print(mean_multi_cls)"
   ]
  },
  {
   "cell_type": "code",
   "execution_count": 43,
   "metadata": {},
   "outputs": [
    {
     "name": "stdout",
     "output_type": "stream",
     "text": [
      "0\n",
      "10\n"
     ]
    }
   ],
   "source": [
    "binary_cls_arg = np.argmax(mean_binary_cls)\n",
    "multi_cls_arg = np.argmax(mean_multi_cls)\n",
    "print(binary_cls_arg)\n",
    "print(multi_cls_arg)"
   ]
  },
  {
   "cell_type": "code",
   "execution_count": 44,
   "metadata": {},
   "outputs": [
    {
     "name": "stdout",
     "output_type": "stream",
     "text": [
      "for binary classification, the best set of hyperparameters is (4e-05, 16)\n",
      "for multi-class classification, the best set of hyperparameters is (1e-05, 8)\n"
     ]
    }
   ],
   "source": [
    "lr = [4e-5, 3e-5, 2e-5, 1e-5]\n",
    "batch_size = [16, 8, 4]\n",
    "combinations = list(itertools.product(lr, batch_size))\n",
    "\n",
    "print(\"for binary classification, the best set of hyperparameters is {}\".format(combinations[binary_cls_arg]))\n",
    "print(\"for multi-class classification, the best set of hyperparameters is {}\".format(combinations[multi_cls_arg]))"
   ]
  }
 ],
 "metadata": {
  "kernelspec": {
   "display_name": "base",
   "language": "python",
   "name": "python3"
  },
  "language_info": {
   "codemirror_mode": {
    "name": "ipython",
    "version": 3
   },
   "file_extension": ".py",
   "mimetype": "text/x-python",
   "name": "python",
   "nbconvert_exporter": "python",
   "pygments_lexer": "ipython3",
   "version": "3.9.16"
  },
  "orig_nbformat": 4
 },
 "nbformat": 4,
 "nbformat_minor": 2
}
