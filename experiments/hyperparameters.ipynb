{
 "cells": [
  {
   "cell_type": "code",
   "execution_count": 42,
   "metadata": {},
   "outputs": [],
   "source": [
    "import statistics\n",
    "import itertools\n",
    "import numpy as np"
   ]
  },
  {
   "cell_type": "code",
   "execution_count": 46,
   "metadata": {},
   "outputs": [],
   "source": [
    "# insert metric value lists here\n",
    "binary_cls = [\n",
    "    [0.8194720554837132, 0.826063575023738, 0.8454241737576585],\n",
    "    [0.8497436552909264, 0.8367895180348849],\n",
    "    [0.8303916769437307, 0.823067998385795],\n",
    "    [0.8216177360774819, 0.8311394698491472],\n",
    "    [0.8150696917670541, 0.8420170397257511],\n",
    "    [0.8164537630553399, 0.8217207820170528],\n",
    "    [0.8355050869707911, 0.8149234106896325],\n",
    "    [0.8304290839431696, 0.8089144811486403, 0.8220188151538267],\n",
    "    [0.8296241697264791, 0.8238722577534496],\n",
    "    [0.8318784080120316, 0.8303991596638657, 0.8339741909249521],\n",
    "    [0.8268042276530351, 0.8339630254855879],\n",
    "    [0.835492647688227, 0.835487809681358, 0.8209730356588562]\n",
    "]\n",
    "\n",
    "multi_cls = [\n",
    "    [0.37819562107422466, 0.5179140876481966, 0.5905257223225139, 0.6470344650668227],\n",
    "    [0.6254198513231672, 0.613631451130741],\n",
    "    [0.6138104017784319, 0.6304893377876072, 0.6272151551759124],\n",
    "    [0.6307930736397561, 0.6441676434518023],\n",
    "    [0.6462387715574788, 0.6180220445412371],\n",
    "    [0.614230607746631, 0.6377096450266584],\n",
    "    [0.6509826750909757, 0.6357948831866157],\n",
    "    [0.6299561319822972, 0.6389074003064038, 0.6434089854848295],\n",
    "    [0.6343445448450579, 0.6118135613464188],\n",
    "    [0.6416577764010304, 0.6242985309957909],\n",
    "    [0.6409542103311678, 0.6462936344947593],\n",
    "    [0.6444622685388787, 0.6521420722985891, 0.6592510429698724],\n",
    "]"
   ]
  },
  {
   "cell_type": "code",
   "execution_count": 47,
   "metadata": {},
   "outputs": [],
   "source": [
    "assert len(binary_cls) == len(multi_cls) == 12"
   ]
  },
  {
   "cell_type": "code",
   "execution_count": 48,
   "metadata": {},
   "outputs": [
    {
     "name": "stdout",
     "output_type": "stream",
     "text": [
      "[0.8303199347550365, 0.8432665866629057, 0.8267298376647629, 0.8263786029633146, 0.8285433657464026, 0.8190872725361964, 0.8252142488302118, 0.8204541267485456, 0.8267482137399644, 0.8320839195336165, 0.8303836265693114, 0.8306511643428137]\n",
      "[0.5334174740279395, 0.6195256512269541, 0.6238382982473172, 0.6374803585457792, 0.6321304080493579, 0.6259701263866446, 0.6433887791387958, 0.6374241725911768, 0.6230790530957384, 0.6329781536984107, 0.6436239224129636, 0.6519517946024467]\n"
     ]
    }
   ],
   "source": [
    "# calculate the mean metric value\n",
    "mean_binary_cls = [statistics.mean(lst) for lst in binary_cls]\n",
    "mean_multi_cls = [statistics.mean(lst) for lst in multi_cls]\n",
    "print(mean_binary_cls)\n",
    "print(mean_multi_cls)"
   ]
  },
  {
   "cell_type": "code",
   "execution_count": 49,
   "metadata": {},
   "outputs": [
    {
     "name": "stdout",
     "output_type": "stream",
     "text": [
      "1\n",
      "11\n"
     ]
    }
   ],
   "source": [
    "binary_cls_arg = np.argmax(mean_binary_cls)\n",
    "multi_cls_arg = np.argmax(mean_multi_cls)\n",
    "print(binary_cls_arg)\n",
    "print(multi_cls_arg)"
   ]
  },
  {
   "cell_type": "code",
   "execution_count": 50,
   "metadata": {},
   "outputs": [
    {
     "name": "stdout",
     "output_type": "stream",
     "text": [
      "for binary classification, the best set of hyperparameters is (4e-05, 8)\n",
      "for multi-class classification, the best set of hyperparameters is (1e-05, 4)\n"
     ]
    }
   ],
   "source": [
    "lr = [4e-5, 3e-5, 2e-5, 1e-5]\n",
    "batch_size = [16, 8, 4]\n",
    "combinations = list(itertools.product(lr, batch_size))\n",
    "\n",
    "print(\"for binary classification, the best set of hyperparameters is {}\".format(combinations[binary_cls_arg]))\n",
    "print(\"for multi-class classification, the best set of hyperparameters is {}\".format(combinations[multi_cls_arg]))"
   ]
  }
 ],
 "metadata": {
  "kernelspec": {
   "display_name": "base",
   "language": "python",
   "name": "python3"
  },
  "language_info": {
   "codemirror_mode": {
    "name": "ipython",
    "version": 3
   },
   "file_extension": ".py",
   "mimetype": "text/x-python",
   "name": "python",
   "nbconvert_exporter": "python",
   "pygments_lexer": "ipython3",
   "version": "3.9.16"
  },
  "orig_nbformat": 4
 },
 "nbformat": 4,
 "nbformat_minor": 2
}
